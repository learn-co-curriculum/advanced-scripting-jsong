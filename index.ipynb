{
 "cells": [
  {
   "cell_type": "markdown",
   "metadata": {},
   "source": [
    "# Addresses\n",
    "\n",
    "P2SH addresses have a very similar structure to P2PKH addresses. Namely, there's 20 bytes that are being encoded with a particular prefix and a checksum that helps identify if any of the characters are wrong encoded in Base58.\n",
    "\n",
    "Specifically, P2SH uses the 5 byte one mainnet which translates to addresses that start with a 3 in base58."
   ]
  },
  {
   "cell_type": "markdown",
   "metadata": {},
   "source": [
    "### Test Driven Exercise\n",
    "\n",
    "Write methods to translate h160 to p2sh and p2pkh addresses."
   ]
  },
  {
   "cell_type": "code",
   "execution_count": null,
   "metadata": {},
   "outputs": [],
   "source": [
    "def h160_to_p2pkh_address(h160, testnet=False):\n",
    "    '''Takes a byte sequence hash160 and returns a p2pkh address string'''\n",
    "    # p2pkh has a prefix of b'\\x00' for mainnet, b'\\x6f' for testnet\n",
    "    pass\n",
    "\n",
    "\n",
    "def h160_to_p2sh_address(h160, testnet=False):\n",
    "    '''Takes a byte sequence hash160 and returns a p2sh address string'''\n",
    "    # p2sh has a prefix of b'\\x05' for mainnet, b'\\xc4 for testnet\n",
    "    pass"
   ]
  }
 ],
 "metadata": {
  "kernelspec": {
   "display_name": "Python 3",
   "language": "python",
   "name": "python3"
  },
  "language_info": {
   "codemirror_mode": {
    "name": "ipython",
    "version": 3
   },
   "file_extension": ".py",
   "mimetype": "text/x-python",
   "name": "python",
   "nbconvert_exporter": "python",
   "pygments_lexer": "ipython3",
   "version": "3.6.5"
  }
 },
 "nbformat": 4,
 "nbformat_minor": 2
}
